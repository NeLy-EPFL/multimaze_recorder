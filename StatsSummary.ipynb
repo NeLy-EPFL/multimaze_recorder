{
 "cells": [
  {
   "cell_type": "markdown",
   "metadata": {},
   "source": [
    "This notebook is for testing the stats summary procedure. It's aimed at getting metadata from selected experiment folders and displaying it in a table. It allows quick check of how many flies have been recorded for a given line and conditions, and helps keep track of the experiments done."
   ]
  },
  {
   "cell_type": "code",
   "execution_count": 8,
   "metadata": {},
   "outputs": [],
   "source": [
    "import platform\n",
    "from pathlib import Path\n",
    "import json"
   ]
  },
  {
   "cell_type": "markdown",
   "metadata": {},
   "source": [
    "# Loading some experiment folders"
   ]
  },
  {
   "cell_type": "code",
   "execution_count": 5,
   "metadata": {},
   "outputs": [
    {
     "name": "stdout",
     "output_type": "stream",
     "text": [
      "/Volumes/Ramdya-Lab/DURRIEU_Matthias/Experimental_data/MultiMazeRecorder/Videos\n"
     ]
    }
   ],
   "source": [
    "# Get the DataFolder\n",
    "\n",
    "if platform.system() == \"Darwin\":\n",
    "    DataPath = Path(\n",
    "        \"/Volumes/Ramdya-Lab/DURRIEU_Matthias/Experimental_data/MultiMazeRecorder/Videos\"\n",
    "    )\n",
    "# Linux Datapath\n",
    "if platform.system() == \"Linux\":\n",
    "    DataPath = Path(\n",
    "        \"/mnt/labserver/DURRIEU_Matthias/Experimental_data/MultiMazeRecorder/Videos\"\n",
    "    )\n",
    "\n",
    "print(DataPath)"
   ]
  },
  {
   "cell_type": "code",
   "execution_count": 6,
   "metadata": {},
   "outputs": [
    {
     "data": {
      "text/plain": [
       "[PosixPath('/Volumes/Ramdya-Lab/DURRIEU_Matthias/Experimental_data/MultiMazeRecorder/Videos/231115_TNT_Fine_2_Videos_Checked'),\n",
       " PosixPath('/Volumes/Ramdya-Lab/DURRIEU_Matthias/Experimental_data/MultiMazeRecorder/Videos/231115_TNT_Fine_1_Videos_Checked'),\n",
       " PosixPath('/Volumes/Ramdya-Lab/DURRIEU_Matthias/Experimental_data/MultiMazeRecorder/Videos/231117_TNT_Fine_3_Videos_Checked'),\n",
       " PosixPath('/Volumes/Ramdya-Lab/DURRIEU_Matthias/Experimental_data/MultiMazeRecorder/Videos/231115_TNT_Fine_3_Videos_Checked'),\n",
       " PosixPath('/Volumes/Ramdya-Lab/DURRIEU_Matthias/Experimental_data/MultiMazeRecorder/Videos/231116_TNT_Fine_1_Videos_Checked')]"
      ]
     },
     "execution_count": 6,
     "metadata": {},
     "output_type": "execute_result"
    }
   ],
   "source": [
    "Folders = []\n",
    "\n",
    "for folder in DataPath.iterdir():\n",
    "    minfolder = str(folder).lower()\n",
    "    if (\n",
    "        \"tnt_fine\" in minfolder\n",
    "    ):\n",
    "        Folders.append(folder)\n",
    "\n",
    "Folders"
   ]
  },
  {
   "cell_type": "code",
   "execution_count": 10,
   "metadata": {},
   "outputs": [
    {
     "name": "stdout",
     "output_type": "stream",
     "text": [
      "Processing /Volumes/Ramdya-Lab/DURRIEU_Matthias/Experimental_data/MultiMazeRecorder/Videos/231115_TNT_Fine_2_Videos_Checked...\n",
      "{'Date': {'arena1': '231115', 'arena2': '231115', 'arena3': '231115', 'arena4': '231115', 'arena5': '231115', 'arena6': '231115', 'arena7': '231115', 'arena8': '231115', 'arena9': '231115'}, 'Genotype': {'arena1': 'TNTxG62', 'arena2': 'TNTxG63', 'arena3': 'TNTxG64', 'arena4': 'TNTxG65', 'arena5': 'TNTxG66', 'arena6': 'TNTxG67', 'arena7': 'TNTxG68', 'arena8': 'TNTxG69', 'arena9': 'TNTxG70'}, 'Period': {'arena1': 'PM15', 'arena2': 'PM15', 'arena3': 'PM15', 'arena4': 'PM15', 'arena5': 'PM15', 'arena6': 'PM15', 'arena7': 'PM15', 'arena8': 'PM15', 'arena9': 'PM15'}, 'FeedingState': {'arena1': 'starved_noWater', 'arena2': 'starved_noWater', 'arena3': 'starved_noWater', 'arena4': 'starved_noWater', 'arena5': 'starved_noWater', 'arena6': 'starved_noWater', 'arena7': 'starved_noWater', 'arena8': 'starved_noWater', 'arena9': 'starved_noWater'}, 'Orientation': {'arena1': 'std', 'arena2': 'std', 'arena3': 'std', 'arena4': 'std', 'arena5': 'std', 'arena6': 'std', 'arena7': 'std', 'arena8': 'std', 'arena9': 'std'}, 'Light': {'arena1': 'on', 'arena2': 'on', 'arena3': 'on', 'arena4': 'on', 'arena5': 'on', 'arena6': 'on', 'arena7': 'on', 'arena8': 'on', 'arena9': 'on'}, 'Crossing': {'arena1': '1', 'arena2': '1', 'arena3': '1', 'arena4': '1', 'arena5': '1', 'arena6': '1', 'arena7': '1', 'arena8': '1', 'arena9': '1'}}\n",
      "Processing /Volumes/Ramdya-Lab/DURRIEU_Matthias/Experimental_data/MultiMazeRecorder/Videos/231115_TNT_Fine_1_Videos_Checked...\n",
      "{'Date': {'arena1': '231115', 'arena2': '231115', 'arena3': '231115', 'arena4': '231115', 'arena5': '231115', 'arena6': '231115', 'arena7': '231115', 'arena8': '231115', 'arena9': '231115'}, 'Genotype': {'arena1': 'TNTxG53', 'arena2': 'TNTxG54', 'arena3': 'TNTxG55', 'arena4': 'TNTxG56', 'arena5': 'TNTxG57', 'arena6': 'TNTxG58', 'arena7': 'TNTxG59', 'arena8': 'TNTxG60', 'arena9': 'TNTxG61'}, 'Period': {'arena1': 'PM14', 'arena2': 'PM14', 'arena3': 'PM14', 'arena4': 'PM14', 'arena5': 'PM14', 'arena6': 'PM14', 'arena7': 'PM14', 'arena8': 'PM14', 'arena9': 'PM14'}, 'FeedingState': {'arena1': 'starved_noWater', 'arena2': 'starved_noWater', 'arena3': 'starved_noWater', 'arena4': 'starved_noWater', 'arena5': 'starved_noWater', 'arena6': 'starved_noWater', 'arena7': 'starved_noWater', 'arena8': 'starved_noWater', 'arena9': 'starved_noWater'}, 'Orientation': {'arena1': 'std', 'arena2': 'std', 'arena3': 'std', 'arena4': 'std', 'arena5': 'std', 'arena6': 'std', 'arena7': 'std', 'arena8': 'std', 'arena9': 'std'}, 'Light': {'arena1': 'on', 'arena2': 'on', 'arena3': 'on', 'arena4': 'on', 'arena5': 'on', 'arena6': 'on', 'arena7': 'on', 'arena8': 'on', 'arena9': 'on'}, 'Crossing': {'arena1': '1', 'arena2': '1', 'arena3': '1', 'arena4': '1', 'arena5': '1', 'arena6': '1', 'arena7': '1', 'arena8': '1', 'arena9': '1'}}\n",
      "Processing /Volumes/Ramdya-Lab/DURRIEU_Matthias/Experimental_data/MultiMazeRecorder/Videos/231117_TNT_Fine_3_Videos_Checked...\n",
      "{'Date': {'arena1': '', 'arena2': '', 'arena3': '', 'arena4': '', 'arena5': '', 'arena6': '', 'arena7': '', 'arena8': '', 'arena9': ''}, 'Genotype': {'arena1': 'TNTxG72', 'arena2': 'TNTxG76', 'arena3': 'TNTxG80', 'arena4': 'TNTxG74', 'arena5': 'TNTxG78', 'arena6': 'TNTxG81', 'arena7': 'TNTxG75', 'arena8': 'TNTxG79', 'arena9': 'TNTxG82'}, 'Period': {'arena1': '', 'arena2': '', 'arena3': '', 'arena4': '', 'arena5': '', 'arena6': '', 'arena7': '', 'arena8': '', 'arena9': ''}, 'FeedingState': {'arena1': '', 'arena2': '', 'arena3': '', 'arena4': '', 'arena5': '', 'arena6': '', 'arena7': '', 'arena8': '', 'arena9': ''}, 'Orientation': {'arena1': '', 'arena2': '', 'arena3': '', 'arena4': '', 'arena5': '', 'arena6': '', 'arena7': '', 'arena8': '', 'arena9': ''}, 'Light': {'arena1': '', 'arena2': '', 'arena3': '', 'arena4': '', 'arena5': '', 'arena6': '', 'arena7': '', 'arena8': '', 'arena9': ''}, 'Crossing': {'arena1': '', 'arena2': '', 'arena3': '', 'arena4': '', 'arena5': '', 'arena6': '', 'arena7': '', 'arena8': '', 'arena9': ''}}\n",
      "Processing /Volumes/Ramdya-Lab/DURRIEU_Matthias/Experimental_data/MultiMazeRecorder/Videos/231115_TNT_Fine_3_Videos_Checked...\n",
      "{'Date': {'arena1': '231115', 'arena2': '231115', 'arena3': '231115', 'arena4': '231115', 'arena5': '231115', 'arena6': '231115', 'arena7': '231115', 'arena8': '231115', 'arena9': '231115'}, 'Genotype': {'arena1': 'TNTxG54', 'arena2': 'TNTxG59', 'arena3': 'TNTxG66', 'arena4': 'TNTxG60', 'arena5': 'TNTxG53', 'arena6': 'TNTxG61', 'arena7': 'TNTxG55', 'arena8': 'TNTxG58', 'arena9': 'TNTxG62'}, 'Period': {'arena1': 'PM16', 'arena2': 'PM16', 'arena3': 'PM16', 'arena4': 'PM16', 'arena5': 'PM16', 'arena6': 'PM16', 'arena7': 'PM16', 'arena8': 'PM16', 'arena9': 'PM16'}, 'FeedingState': {'arena1': 'starved_noWater', 'arena2': 'starved_noWater', 'arena3': 'starved_noWater', 'arena4': 'starved_noWater', 'arena5': 'starved_noWater', 'arena6': 'starved_noWater', 'arena7': 'starved_noWater', 'arena8': 'starved_noWater', 'arena9': 'starved_noWater'}, 'Orientation': {'arena1': 'std', 'arena2': 'std', 'arena3': 'std', 'arena4': 'std', 'arena5': 'std', 'arena6': 'std', 'arena7': 'std', 'arena8': 'std', 'arena9': 'std'}, 'Light': {'arena1': 'on', 'arena2': 'on', 'arena3': 'on', 'arena4': 'on', 'arena5': 'on', 'arena6': 'on', 'arena7': 'on', 'arena8': 'on', 'arena9': 'on'}, 'Crossing': {'arena1': '1', 'arena2': '1', 'arena3': '1', 'arena4': '1', 'arena5': '1', 'arena6': '1', 'arena7': '1', 'arena8': '1', 'arena9': '1'}}\n",
      "Processing /Volumes/Ramdya-Lab/DURRIEU_Matthias/Experimental_data/MultiMazeRecorder/Videos/231116_TNT_Fine_1_Videos_Checked...\n",
      "{'Date': {'arena1': '', 'arena2': '', 'arena3': '', 'arena4': '', 'arena5': '', 'arena6': '', 'arena7': '', 'arena8': '', 'arena9': ''}, 'Genotype': {'arena1': '', 'arena2': '', 'arena3': '', 'arena4': '', 'arena5': '', 'arena6': '', 'arena7': '', 'arena8': '', 'arena9': ''}, 'Period': {'arena1': '', 'arena2': '', 'arena3': '', 'arena4': '', 'arena5': '', 'arena6': '', 'arena7': '', 'arena8': '', 'arena9': ''}, 'FeedingState': {'arena1': '', 'arena2': '', 'arena3': '', 'arena4': '', 'arena5': '', 'arena6': '', 'arena7': '', 'arena8': '', 'arena9': ''}, 'Orientation': {'arena1': '', 'arena2': '', 'arena3': '', 'arena4': '', 'arena5': '', 'arena6': '', 'arena7': '', 'arena8': '', 'arena9': ''}, 'Light': {'arena1': '', 'arena2': '', 'arena3': '', 'arena4': '', 'arena5': '', 'arena6': '', 'arena7': '', 'arena8': '', 'arena9': ''}, 'Crossing': {'arena1': '', 'arena2': '', 'arena3': '', 'arena4': '', 'arena5': '', 'arena6': '', 'arena7': '', 'arena8': '', 'arena9': ''}}\n"
     ]
    }
   ],
   "source": [
    "# Get the metadata from the metadata.json file\n",
    "\n",
    "Dataset = \n",
    "\n",
    "for folder in Folders:\n",
    "    print(f\"Processing {folder}...\")\n",
    "    # Read the metadata.json file\n",
    "    with open(folder / \"Metadata.json\", \"r\") as f:\n",
    "        metadata = json.load(f)\n",
    "        variables = metadata[\"Variable\"]\n",
    "        metadata_dict = {}\n",
    "        for var in variables:\n",
    "            metadata_dict[var] = {}\n",
    "            for arena in range(1, 10):\n",
    "                arena_key = f\"Arena{arena}\"\n",
    "                var_index = variables.index(var)\n",
    "                metadata_dict[var][arena_key] = metadata[arena_key][var_index]\n",
    "\n",
    "        # In the metadata_dict, make all they Arena subkeys lower case\n",
    "\n",
    "        for var in variables:\n",
    "            metadata_dict[var] = {\n",
    "                k.lower(): v for k, v in metadata_dict[var].items()\n",
    "            }\n",
    "        print(metadata_dict)\n",
    "    \n",
    "    files = list(folder.glob(\"**/*.mp4\"))\n",
    "\n",
    "    for file in files:\n",
    "        # print(file.name)\n",
    "        # Get the arena and corridor numbers from the parent (corridor) and grandparent (arena) folder names\n",
    "        arena = file.parent.parent.name\n",
    "        # print(arena)\n",
    "        corridor = file.parent.name\n",
    "        \n",
    "\n",
    "    "
   ]
  },
  {
   "cell_type": "markdown",
   "metadata": {},
   "source": []
  }
 ],
 "metadata": {
  "kernelspec": {
   "display_name": "mmrecorder",
   "language": "python",
   "name": "python3"
  },
  "language_info": {
   "codemirror_mode": {
    "name": "ipython",
    "version": 3
   },
   "file_extension": ".py",
   "mimetype": "text/x-python",
   "name": "python",
   "nbconvert_exporter": "python",
   "pygments_lexer": "ipython3",
   "version": "3.11.4"
  }
 },
 "nbformat": 4,
 "nbformat_minor": 2
}
