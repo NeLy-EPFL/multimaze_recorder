{
 "cells": [
  {
   "cell_type": "code",
   "execution_count": 2,
   "metadata": {},
   "outputs": [],
   "source": [
    "import json\n",
    "#sys.path.append(\"../python-common\")\n",
    "#import TIS\n",
    "import platform"
   ]
  },
  {
   "cell_type": "code",
   "execution_count": 3,
   "metadata": {},
   "outputs": [
    {
     "data": {
      "text/plain": [
       "'Darwin'"
      ]
     },
     "execution_count": 3,
     "metadata": {},
     "output_type": "execute_result"
    }
   ],
   "source": [
    "platform.system()"
   ]
  },
  {
   "cell_type": "code",
   "execution_count": 23,
   "metadata": {},
   "outputs": [],
   "source": [
    "\n",
    "presets = \"/home/matthias/multimaze_recorder/Presets/standard_set.json\"\n",
    "\n",
    "# Camera config\n",
    "\n",
    "with open(presets) as jsonFile:\n",
    "    cameraconfigs = json.load(jsonFile)\n",
    "    jsonFile.close()\n",
    "\n",
    "format = cameraconfigs[\"format\"]"
   ]
  },
  {
   "cell_type": "code",
   "execution_count": 24,
   "metadata": {},
   "outputs": [
    {
     "data": {
      "text/plain": [
       "{'serial': '39220254',\n",
       " 'pixelformat': 'TIS.SinkFormats.GRAY8',\n",
       " 'width': 4096,\n",
       " 'height': 3000,\n",
       " 'framerate': '30/1'}"
      ]
     },
     "execution_count": 24,
     "metadata": {},
     "output_type": "execute_result"
    }
   ],
   "source": [
    "format"
   ]
  },
  {
   "cell_type": "code",
   "execution_count": 25,
   "metadata": {},
   "outputs": [
    {
     "data": {
      "text/plain": [
       "4096"
      ]
     },
     "execution_count": 25,
     "metadata": {},
     "output_type": "execute_result"
    }
   ],
   "source": [
    "format['width']"
   ]
  },
  {
   "cell_type": "code",
   "execution_count": 26,
   "metadata": {},
   "outputs": [],
   "source": [
    "props = cameraconfigs[\"properties\"]"
   ]
  },
  {
   "cell_type": "code",
   "execution_count": 27,
   "metadata": {},
   "outputs": [
    {
     "data": {
      "text/plain": [
       "[{'property': 'AutoFunctionsROIEnable', 'value': False},\n",
       " {'property': 'ExposureAuto', 'value': 'Off'},\n",
       " {'property': 'ExposureTime', 'value': 800.0},\n",
       " {'property': 'GainAuto', 'value': 'Off'},\n",
       " {'property': 'Gain', 'value': 12.5},\n",
       " {'property': 'Gamma', 'value': 1.2},\n",
       " {'property': 'TriggerMode', 'value': 'Off'}]"
      ]
     },
     "execution_count": 27,
     "metadata": {},
     "output_type": "execute_result"
    }
   ],
   "source": [
    "props"
   ]
  },
  {
   "cell_type": "code",
   "execution_count": 30,
   "metadata": {},
   "outputs": [
    {
     "name": "stdout",
     "output_type": "stream",
     "text": [
      "{'property': 'AutoFunctionsROIEnable', 'value': False}\n",
      "{'property': 'ExposureAuto', 'value': 'Off'}\n",
      "{'property': 'ExposureTime', 'value': 800.0}\n",
      "{'property': 'GainAuto', 'value': 'Off'}\n",
      "{'property': 'Gain', 'value': 12.5}\n",
      "{'property': 'Gamma', 'value': 1.2}\n",
      "{'property': 'TriggerMode', 'value': 'Off'}\n"
     ]
    }
   ],
   "source": [
    "for p in props:\n",
    "    print(p)"
   ]
  },
  {
   "cell_type": "code",
   "execution_count": null,
   "metadata": {},
   "outputs": [],
   "source": []
  }
 ],
 "metadata": {
  "kernelspec": {
   "display_name": "mazerecord",
   "language": "python",
   "name": "python3"
  },
  "language_info": {
   "codemirror_mode": {
    "name": "ipython",
    "version": 3
   },
   "file_extension": ".py",
   "mimetype": "text/x-python",
   "name": "python",
   "nbconvert_exporter": "python",
   "pygments_lexer": "ipython3",
   "version": "3.11.4"
  },
  "orig_nbformat": 4
 },
 "nbformat": 4,
 "nbformat_minor": 2
}
